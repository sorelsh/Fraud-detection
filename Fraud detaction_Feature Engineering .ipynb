{
 "cells": [
  {
   "cell_type": "code",
   "execution_count": 4,
   "id": "e75e5714-3d2b-49d4-b90e-2d53417f832e",
   "metadata": {},
   "outputs": [],
   "source": [
    "# import required modules\n",
    "import pandas as pd\n",
    "import numpy as np\n",
    "from dask import dataframe as dd\n",
    "import holidays\n",
    "from datetime import datetime\n",
    "from typing import Dict, List, Optional\n",
    "import matplotlib.pyplot as plt\n",
    "import seaborn as sns\n",
    "import warnings\n",
    "\n",
    "# Ignore warnings\n",
    "warnings.filterwarnings('ignore')"
   ]
  },
  {
   "cell_type": "code",
   "execution_count": 5,
   "id": "81b64fcc-8c4a-4659-877a-9022ae87a34c",
   "metadata": {},
   "outputs": [],
   "source": [
    "#######  REMOVE ######\n",
    "fraud_2020_sample = pd.read_csv(r'C:\\Course\\Repo\\Files\\Fraud detection\\credit_card_fraud_2020_sample.csv')\n",
    "df = fraud_2020_sample.copy()"
   ]
  },
  {
   "cell_type": "markdown",
   "id": "86f37af2-dc1b-450c-8fe7-dbfeb1073978",
   "metadata": {},
   "source": [
    "#### <font color='Indigo'>add card_brand and card_type from credit card number"
   ]
  },
  {
   "cell_type": "code",
   "execution_count": null,
   "id": "7296e6e5-f55d-4d1f-ac12-2c0173093cd2",
   "metadata": {},
   "outputs": [],
   "source": [
    "##### helper function to get issuer and card type from credit card number \n",
    "\n",
    "def identify_card(card_number: str) -> dict:\n",
    "    \"\"\"\n",
    "    Identify card type and brand from card number using BIN patterns\n",
    "    Returns dictionary with card_type and brand\n",
    "    \"\"\"\n",
    "    # Remove any spaces or non-digit characters\n",
    "    card_number = ''.join(filter(str.isdigit, str(card_number)))\n",
    "    \n",
    "    # Check if card number is valid length\n",
    "    if not (12 <= len(card_number) <= 19):\n",
    "        return {\"card_type\": \"Invalid\", \"brand\": \"Unknown\"}\n",
    "    \n",
    "    # Common card patterns using first few digits (BIN)\n",
    "    card_patterns = {\n",
    "        \"4\": {\"brand\": \"Visa\", \"card_type\": \"Credit\"}, \n",
    "        \"4026\": {\"brand\": \"Visa Electron\", \"card_type\": \"Debit\"},\n",
    "        \"414170\": {\"brand\": \"Visa Rewards\", \"card_type\": \"Credit\"},\n",
    "        \"4571\": {\"brand\": \"Visa Debit\", \"card_type\": \"Debit\"}, \n",
    "        \"4929\": {\"brand\": \"Visa Purchase\", \"card_type\": \"Credit\"}, \n",
    "        \"4908\": {\"brand\": \"Visa Platinum\", \"card_type\": \"Credit\"}, \n",
    "        \"4910\": {\"brand\": \"Visa Gold\", \"card_type\": \"Credit\"},  \n",
    "        \"50\": {\"brand\": \"Maestro\", \"card_type\": \"Debit\"},\n",
    "        \"56\": {\"brand\": \"Maestro\", \"card_type\": \"Debit\"},\n",
    "        \"57\":  {\"brand\": \"Maestro\", \"card_type\": \"Debit\"},\n",
    "        \"58\":  {\"brand\": \"Maestro\", \"card_type\": \"Debit\"},           \n",
    "        \"51\": {\"card_type\": \"Credit\", \"brand\": \"Mastercard\"},\n",
    "        \"52\": {\"card_type\": \"Credit\", \"brand\": \"Mastercard\"},\n",
    "        \"53\": {\"card_type\": \"Credit\", \"brand\": \"Mastercard\"},\n",
    "        \"54\": {\"card_type\": \"Credit\", \"brand\": \"Mastercard\"},\n",
    "        \"55\": {\"card_type\": \"Credit\", \"brand\": \"Mastercard\"},\n",
    "\t\t\"55\": {\"card_type\": \"Credit\", \"brand\": \"Mastercard\"},\n",
    "        \"2221-2720\": {\"card_type\": \"Credit\", \"brand\": \"Mastercard\"},\n",
    "        \"34\": {\"card_type\": \"Charge\", \"brand\": \"American Express\"},\n",
    "        \"37\": {\"card_type\": \"Charge\", \"brand\": \"American Express\"},\n",
    "        \"6011\": {\"card_type\": \"Credit\", \"brand\": \"Discover\"},\n",
    "        \"644-649\": {\"card_type\": \"Credit\", \"brand\": \"Discover\"},\n",
    "        \"65\": {\"card_type\": \"Credit\", \"brand\": \"Discover\"},\n",
    "\t\t\"35\": {\"brand\": \"JCB\", \"card_type\": \"Credit\"}, \n",
    "        \"30\": {\"brand\": \"Diners Club\", \"card_type\": \"Credit\"},\n",
    "        \"36\": {\"brand\": \"Diners Club\", \"card_type\": \"Credit\"},   \n",
    "        \"38\": {\"brand\": \"Diners Club\", \"card_type\": \"Credit\"},\n",
    "        \"39\": {\"brand\": \"Diners Club\", \"card_type\": \"Credit\"},\n",
    "        \"300-305\": {\"card_type\": \"Credit\", \"brand\": \"Diners Club\"},\n",
    "        \"3095\": {\"card_type\": \"Credit\", \"brand\": \"Diners Club\"},\n",
    "        \"2131\": {\"brand\": \"JCB\", \"card_type\": \"Credit\"}, \n",
    "        \"1800\": {\"brand\": \"JCB\", \"card_type\": \"Credit\"}, \n",
    "        \"62\": {\"card_type\": \"Credit\", \"brand\": \"UnionPay\"},\n",
    "        \"5018\": {\"card_type\": \"Debit\", \"brand\": \"Maestro\"},\n",
    "        \"5020\": {\"card_type\": \"Debit\", \"brand\": \"Maestro\"},\n",
    "        \"5038\": {\"card_type\": \"Debit\", \"brand\": \"Maestro\"},\n",
    "        \"5893\": {\"card_type\": \"Debit\", \"brand\": \"Maestro\"},\n",
    "        \"6304\": {\"card_type\": \"Debit\", \"brand\": \"Maestro\"},\n",
    "        \"6759\": {\"card_type\": \"Debit\", \"brand\": \"Maestro\"},\n",
    "        \"6761\": {\"card_type\": \"Debit\", \"brand\": \"Maestro\"},\n",
    "        \"6762\": {\"card_type\": \"Debit\", \"brand\": \"Maestro\"},\n",
    "        \"6763\": {\"card_type\": \"Debit\", \"brand\": \"Maestro\"},\n",
    "         \"6\":  {\"brand\": \"Maestro\", \"card_type\": \"Debit\"},\n",
    "        \"637\": {\"brand\": \"InstaPayment\", \"card_type\": \"Credit\"},\n",
    "        \"638\": {\"brand\": \"InstaPayment\", \"card_type\": \"Credit\"},\n",
    "        \"639\": {\"brand\": \"InstaPayment\", \"card_type\": \"Credit\"},\n",
    "        \"622126-622925\": {\"brand\": \"Discover\", \"card_type\": \"Credit\"}\n",
    "    }\n",
    "    \n",
    "    # Prepaid patterns\n",
    "    prepaid_patterns = {\n",
    "        \"604\": {\"card_type\": \"Prepaid\", \"brand\": \"Visa Gift Card\"},\n",
    "        \"5100\": {\"card_type\": \"Prepaid\", \"brand\": \"Mastercard\"}\n",
    "    }\n",
    "    \n",
    "    # Check prepaid first\n",
    "    for prefix, info in prepaid_patterns.items():\n",
    "        if card_number.startswith(prefix):\n",
    "            return info\n",
    "    \n",
    "    # Then general patterns\n",
    "    for prefix, info in card_patterns.items():\n",
    "        if \"-\" in prefix:  # Handle ranges\n",
    "            start, end = prefix.split(\"-\")\n",
    "            if len(prefix) <= len(card_number):\n",
    "                card_start = card_number[:len(start)]\n",
    "                if start <= card_start <= end:\n",
    "                    return info\n",
    "        else:\n",
    "            if card_number.startswith(prefix):\n",
    "                return info\n",
    "    \n",
    "    return {\"card_type\": \"Unknown\", \"brand\": \"Unknown\"}\n",
    "\n",
    "def validate_card(card_number: str) -> bool:\n",
    "    \"\"\"\n",
    "    Validate card number using Luhn algorithm\n",
    "    \"\"\"\n",
    "    digits = [int(x) for x in str(card_number) if x.isdigit()]\n",
    "    if not digits:\n",
    "        return False\n",
    "        \n",
    "    checksum = 0\n",
    "    even = False\n",
    "    for digit in digits[::-1]:\n",
    "        if even:\n",
    "            doubled = digit * 2\n",
    "            checksum += doubled if doubled <= 9 else doubled - 9\n",
    "        else:\n",
    "            checksum += digit\n",
    "        even = not even\n",
    "        \n",
    "    return checksum % 10 == 0\n",
    "\n",
    "def add_cc_info(df: pd.DataFrame, cc_column: str = 'cc_num') -> pd.DataFrame:\n",
    "    \"\"\"\n",
    "    Update a DataFrame with card type, brand, and validity information\n",
    "    \"\"\"\n",
    "    # Ensure cc_num is string type\n",
    "    df[cc_column] = df[cc_column].astype(str)\n",
    "    \n",
    "    # Apply card identification\n",
    "    card_info = df[cc_column].apply(identify_card)\n",
    "    \n",
    "    # Extract type and brand into new columns\n",
    "    df['card_type'] = card_info.apply(lambda x: x['card_type'])\n",
    "    df['card_brand'] = card_info.apply(lambda x: x['brand'])\n",
    "    \n",
    "    return df\n"
   ]
  },
  {
   "cell_type": "code",
   "execution_count": null,
   "id": "2d8f3f1d-0f3c-419d-97bc-04e24f4e213d",
   "metadata": {},
   "outputs": [],
   "source": [
    "df = add_cc_info(df, 'cc_num')"
   ]
  },
  {
   "cell_type": "markdown",
   "id": "e0fbaba3-4994-4fc4-8e4b-b5516058722e",
   "metadata": {},
   "source": [
    "#####  <font color='blue'> view card brand And Type distribution "
   ]
  },
  {
   "cell_type": "code",
   "execution_count": null,
   "id": "3be375de-37d9-48c2-b16d-d176fd1d65b2",
   "metadata": {},
   "outputs": [],
   "source": [
    "# Group by card_brand and card_type and count the occurrences\n",
    "card_counts = df.groupby(['card_brand', 'card_type']).size().unstack().fillna(0)\n",
    "\n",
    "# Create the figure\n",
    "fig, ax = plt.subplots(figsize=(14, 4))\n",
    "\n",
    "# Plot the grouped bar chart\n",
    "card_counts.plot(kind='bar', stacked=False, cmap='tab10', ax=ax, width=0.8, edgecolor='black')\n",
    "\n",
    "# Apply logarithmic scale to y-axis\n",
    "ax.set_yscale('log')\n",
    "\n",
    "# Add labels and title\n",
    "ax.set_xlabel('Card Brand', fontsize=14, fontweight='bold')\n",
    "ax.set_ylabel('Number of Cards (Log Scale)', fontsize=14, fontweight='bold')\n",
    "ax.set_title('Distribution of Card Type by Card Brand', fontsize=16, fontweight='bold', pad=15)\n",
    "\n",
    "# Improve tick labels\n",
    "ax.set_xticklabels(ax.get_xticklabels(), rotation=30, ha='right', fontsize=12)\n",
    "\n",
    "# Add grid lines for better readability\n",
    "ax.grid(axis='y', linestyle='--', alpha=0.7)\n",
    "\n",
    "# Add vertical separators between brands\n",
    "xticks = ax.get_xticks()\n",
    "for i in range(len(xticks) - 1):\n",
    "    ax.axvline(x=(xticks[i] + xticks[i + 1]) / 2, color='gray', linestyle='--', alpha=0.5)\n",
    "\n",
    "# Add legend with better placement\n",
    "ax.legend(title='Card Type', fontsize=12, title_fontsize=13, loc='upper right', frameon=True)\n",
    "\n",
    "# Remove unnecessary border\n",
    "ax.spines['top'].set_visible(False)\n",
    "ax.spines['right'].set_visible(False)\n",
    "\n",
    "# Add value labels on bars\n",
    "for container in ax.containers:\n",
    "    ax.bar_label(container, fmt='%.0f', fontsize=10, label_type='edge', padding=3, color='black')\n",
    "\n",
    "# Show the plot\n",
    "plt.tight_layout()\n",
    "plt.show()\n"
   ]
  },
  {
   "cell_type": "markdown",
   "id": "f0a619bd-7c7d-4565-96a0-2b0aa4f308ed",
   "metadata": {},
   "source": [
    "##### <font color='blue'> plot fraud by card_brnd"
   ]
  },
  {
   "cell_type": "code",
   "execution_count": null,
   "id": "b7561b91-0201-46ca-868e-360ca0373416",
   "metadata": {},
   "outputs": [],
   "source": [
    "# Group by card_brand and count the number of fraud transactions\n",
    "fraud_counts = df[df['is_fraud'] == 1]['card_brand'].value_counts()\n",
    "\n",
    "# Group by card_brand and count the total number of transactions (fraud + non-fraud) for each brand\n",
    "total_counts = df['card_brand'].value_counts()\n",
    "\n",
    "# Calculate the fraud percentage for each card brand (fraud transactions / total transactions for the brand) * 100\n",
    "fraud_percentages = (fraud_counts / total_counts) * 100\n",
    "\n",
    "# Create a figure with two subplots side by side\n",
    "fig, axes = plt.subplots(1, 2, figsize=(16, 6))\n",
    "\n",
    "# Plot the number of fraud transactions\n",
    "sns.barplot(x=fraud_counts.index, y=fraud_counts.values, palette='viridis', ax=axes[0])\n",
    "axes[0].set_xlabel('Card Brand', fontsize=12)\n",
    "axes[0].set_ylabel('Number of Fraud Transactions', fontsize=12)\n",
    "axes[0].set_title('Number of Fraud Transactions by Card Brand', fontsize=14)\n",
    "axes[0].tick_params(axis='x', rotation=45)\n",
    "axes[0].grid(axis='y', linestyle='--', alpha=0.7)\n",
    "\n",
    "# Show values on bars for the first plot\n",
    "for index, value in enumerate(fraud_counts.values):\n",
    "    axes[0].text(index, value + 10, f\"{value:,}\", ha='center', fontsize=10)\n",
    "\n",
    "# Plot the fraud percentage for each card brand\n",
    "sns.barplot(x=fraud_percentages.index, y=fraud_percentages.values, palette='magma', ax=axes[1])\n",
    "axes[1].set_xlabel('Card Brand', fontsize=12)\n",
    "axes[1].set_ylabel('Fraud Percentage (%)', fontsize=12)\n",
    "axes[1].set_title('Fraud Percentage by Card Brand (Relative to All Transactions)', fontsize=14)\n",
    "axes[1].tick_params(axis='x', rotation=45)\n",
    "axes[1].grid(axis='y', linestyle='--', alpha=0.7)\n",
    "\n",
    "# Show values on bars for the second plot\n",
    "for index, value in enumerate(fraud_percentages.values):\n",
    "    axes[1].text(index, value + 0.5, f\"{value:.2f}%\", ha='center', fontsize=10)\n",
    "\n",
    "# Adjust layout\n",
    "plt.tight_layout()\n",
    "\n",
    "# Show the plot\n",
    "plt.show()\n"
   ]
  },
  {
   "cell_type": "markdown",
   "id": "bfb5041e-c888-4f50-9bee-cab7d2d4da76",
   "metadata": {},
   "source": [
    "#### <font color='Indigo'>group distance population "
   ]
  },
  {
   "cell_type": "code",
   "execution_count": null,
   "id": "365182fd-3679-4b9e-9b34-32743e1c39c3",
   "metadata": {},
   "outputs": [],
   "source": [
    "df_tmp = calculate_distances(df)\n",
    "# Use pd.cut() to group 'distance_km' into 10 equal-width bins and label them directly\n",
    "labels = [\"Very Close\", \"Close\", \"Somewhat Close\", \"Moderate\", \"Intermediate\", \n",
    "          \"Far\", \"Very Far\", \"Extremely Far\", \"Distant\", \"Very Distant\"]\n",
    "\n",
    "df['distance_category'] = pd.cut(df_tmp['distance_km'], bins=10, labels=labels)"
   ]
  },
  {
   "cell_type": "code",
   "execution_count": null,
   "id": "11e4e45a-762c-462b-9974-2d380a2544e1",
   "metadata": {},
   "outputs": [],
   "source": [
    "palette_colors = sns.color_palette(\"Set2\", len(labels))  \n",
    "\n",
    "# Create a countplot with colors\n",
    "plt.figure(figsize=(12, 6))\n",
    "sns.countplot(x='distance_category', data=df, order=labels, palette=palette_colors)\n",
    "\n",
    "# Improve plot aesthetics\n",
    "plt.title('Count of Distance Groups', fontsize=14, fontweight='bold', pad=10)\n",
    "plt.xlabel('Distance Range', fontsize=12, fontweight='bold')\n",
    "plt.ylabel('Count', fontsize=12, fontweight='bold')\n",
    "plt.xticks(rotation=20)  # Rotate labels if needed\n",
    "\n",
    "# Show the plot\n",
    "plt.show()"
   ]
  },
  {
   "cell_type": "markdown",
   "id": "b488edf5-7a83-4339-85aa-bfc0833af551",
   "metadata": {},
   "source": [
    "#### <font color='Indigo'>group city population "
   ]
  },
  {
   "cell_type": "code",
   "execution_count": 6,
   "id": "1cf3de0b-52b8-42e0-ae76-41bc195aad7d",
   "metadata": {},
   "outputs": [
    {
     "ename": "NameError",
     "evalue": "name 'df' is not defined",
     "output_type": "error",
     "traceback": [
      "\u001b[1;31m---------------------------------------------------------------------------\u001b[0m",
      "\u001b[1;31mNameError\u001b[0m                                 Traceback (most recent call last)",
      "Cell \u001b[1;32mIn[6], line 1\u001b[0m\n\u001b[1;32m----> 1\u001b[0m city_pop_min \u001b[38;5;241m=\u001b[39m \u001b[43mdf\u001b[49m[\u001b[38;5;124m'\u001b[39m\u001b[38;5;124mcity_pop\u001b[39m\u001b[38;5;124m'\u001b[39m]\u001b[38;5;241m.\u001b[39mmin()\n\u001b[0;32m      2\u001b[0m city_pop_max \u001b[38;5;241m=\u001b[39m df[\u001b[38;5;124m'\u001b[39m\u001b[38;5;124mcity_pop\u001b[39m\u001b[38;5;124m'\u001b[39m]\u001b[38;5;241m.\u001b[39mmax()\n\u001b[0;32m      4\u001b[0m \u001b[38;5;28mprint\u001b[39m(\u001b[38;5;124mf\u001b[39m\u001b[38;5;124m\"\u001b[39m\u001b[38;5;124mCity Population Range: \u001b[39m\u001b[38;5;132;01m{\u001b[39;00mcity_pop_min\u001b[38;5;132;01m}\u001b[39;00m\u001b[38;5;124m - \u001b[39m\u001b[38;5;132;01m{\u001b[39;00mcity_pop_max\u001b[38;5;132;01m}\u001b[39;00m\u001b[38;5;124m\"\u001b[39m)\n",
      "\u001b[1;31mNameError\u001b[0m: name 'df' is not defined"
     ]
    }
   ],
   "source": [
    "city_pop_min = df['city_pop'].min()\n",
    "city_pop_max = df['city_pop'].max()\n",
    "\n",
    "print(f\"City Population Range: {city_pop_min} - {city_pop_max}\")\n",
    "print(df['city_pop'].nunique())"
   ]
  },
  {
   "cell_type": "code",
   "execution_count": null,
   "id": "4646c074-a4ef-4389-91b6-6bf115da1f98",
   "metadata": {},
   "outputs": [],
   "source": [
    "labels = [\n",
    "    \"Very Small Town\", \"Small Town\", \"Midsize Town\", \"Large Town\",\n",
    "    \"Small City\", \"Midsize City\", \"Large City\", \"Major City\",\n",
    "    \"Metropolitan Area\", \"Large Metropolitan Area\"\n",
    "]\n",
    "\n",
    "df['city_pop_range'] = pd.qcut(df['city_pop'], q=10, labels=labels)"
   ]
  },
  {
   "cell_type": "code",
   "execution_count": null,
   "id": "1bdde24a-3644-49a4-80d3-bdf5900222c9",
   "metadata": {},
   "outputs": [],
   "source": [
    "palette_colors = sns.color_palette(\"Set2\", len(labels))  \n",
    "\n",
    "# Create a countplot with colors\n",
    "plt.figure(figsize=(12, 6))\n",
    "sns.countplot(x='city_pop_range', data=df, order=labels, palette=palette_colors)\n",
    "\n",
    "# Improve plot aesthetics\n",
    "plt.title('Count of city population Groups', fontsize=14, fontweight='bold', pad=10)\n",
    "plt.xlabel('city population Range', fontsize=12, fontweight='bold')\n",
    "plt.ylabel('Count', fontsize=12, fontweight='bold')\n",
    "plt.xticks(rotation=20)  # Rotate labels if needed\n",
    "\n",
    "# Show the plot\n",
    "plt.show()"
   ]
  },
  {
   "cell_type": "markdown",
   "id": "74616018-320d-41a2-a8d0-6d0a5aa43692",
   "metadata": {},
   "source": [
    "#### <font color='Indigo'>group age"
   ]
  },
  {
   "cell_type": "code",
   "execution_count": null,
   "id": "71b076fc-bcbc-401c-b7b8-01bc5fcc75d3",
   "metadata": {},
   "outputs": [],
   "source": [
    "# Categorize the ages into bins with labels\n",
    "df['age_range'] = pd.cut(df['age'],bins=[0, 18, 22, 35, 50, 65, float('inf')], labels=['Teen', 'Student', 'Young Adult', 'Midlife', 'Mature Adult', 'Senior'], right=False)"
   ]
  },
  {
   "cell_type": "code",
   "execution_count": null,
   "id": "818a93df-52a0-4bbd-9e13-d3904e10f33d",
   "metadata": {},
   "outputs": [],
   "source": [
    "# Aggregate the age groups\n",
    "age_group_aggregation = df.groupby('age_range').size().reset_index(name='count')\n",
    "\n",
    "age_group_aggregation"
   ]
  },
  {
   "cell_type": "code",
   "execution_count": null,
   "id": "ad479da5-5003-402b-a1f6-2aefb9df0238",
   "metadata": {},
   "outputs": [],
   "source": [
    "# Create a countplot\n",
    "plt.figure(figsize=(10, 6))\n",
    "sns.countplot(x='age_range', data=df, order=['Teen', 'Student', 'Young Adult', 'Midlife', 'Mature Adult', 'Senior'])\n",
    "plt.title('Count of Age Groups')\n",
    "plt.xlabel('Age Range')\n",
    "plt.ylabel('Count')\n",
    "plt.show()"
   ]
  },
  {
   "cell_type": "markdown",
   "id": "d21363fe-a38d-4b4d-866e-571f5d265ddb",
   "metadata": {},
   "source": [
    "##### <font color='blue'> plot card fraud distribution by distance from merchant"
   ]
  },
  {
   "cell_type": "code",
   "execution_count": null,
   "id": "b76f94a9-3c98-45b9-8fe1-0a6bee0cbd08",
   "metadata": {},
   "outputs": [],
   "source": [
    "# Filter the DataFrame for fraud transactions (is_fraud == 1)\n",
    "fraud_df = df[df['is_fraud'] == 1]\n",
    "\n",
    "# Plot the count of fraud transactions by 'distance_bin_category'\n",
    "plt.figure(figsize=(10, 4))\n",
    "sns.countplot(x='distance_category', data=fraud_df, palette='viridis')\n",
    "\n",
    "# Add labels and title\n",
    "plt.xlabel('Distance Category', fontsize=12)\n",
    "plt.ylabel('Number of Fraud Transactions', fontsize=12)\n",
    "plt.title('Fraud Transactions by Distance From Merchant Category', fontsize=14)\n",
    "plt.xticks(rotation=45)\n",
    "plt.grid(axis='y', linestyle='--', alpha=0.7)\n",
    "\n",
    "# Show the plot\n",
    "plt.show()"
   ]
  },
  {
   "cell_type": "code",
   "execution_count": null,
   "id": "b5db8404-1bcd-4016-8365-69777240a9de",
   "metadata": {},
   "outputs": [],
   "source": []
  }
 ],
 "metadata": {
  "kernelspec": {
   "display_name": "Python 3 (ipykernel)",
   "language": "python",
   "name": "python3"
  },
  "language_info": {
   "codemirror_mode": {
    "name": "ipython",
    "version": 3
   },
   "file_extension": ".py",
   "mimetype": "text/x-python",
   "name": "python",
   "nbconvert_exporter": "python",
   "pygments_lexer": "ipython3",
   "version": "3.12.7"
  }
 },
 "nbformat": 4,
 "nbformat_minor": 5
}
